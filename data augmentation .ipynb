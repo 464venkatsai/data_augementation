{
 "cells": [
  {
   "cell_type": "markdown",
   "id": "79ea1958",
   "metadata": {},
   "source": [
    "## Data Augmentation - it is use to generate the images when we have the small dataset\n",
    "\n",
    " - It flips, shifts, and zooms the image to make a CNN more accurate"
   ]
  },
  {
   "cell_type": "code",
   "execution_count": 1,
   "id": "a4488f42",
   "metadata": {},
   "outputs": [],
   "source": [
    "from tensorflow.keras.preprocessing.image import ImageDataGenerator ,array_to_img, img_to_array,load_img"
   ]
  },
  {
   "cell_type": "markdown",
   "id": "4122cbc1",
   "metadata": {},
   "source": [
    "#### Adjusting the parameters of the image"
   ]
  },
  {
   "cell_type": "code",
   "execution_count": 2,
   "id": "d5c58678",
   "metadata": {},
   "outputs": [],
   "source": [
    "data_generator = ImageDataGenerator(\n",
    "                    rotation_range=40,\n",
    "                    width_shift_range=0.2,\n",
    "                    height_shift_range=0.2,\n",
    "                    zoom_range=0.2,\n",
    "                    horizontal_flip=True,fill_mode='nearest')"
   ]
  },
  {
   "cell_type": "markdown",
   "id": "1a8497f4",
   "metadata": {},
   "source": [
    "#### Loading the image in the ram and converting into a array"
   ]
  },
  {
   "cell_type": "code",
   "execution_count": 3,
   "id": "4e00b237",
   "metadata": {},
   "outputs": [
    {
     "name": "stdout",
     "output_type": "stream",
     "text": [
      "(400, 400, 3)\n"
     ]
    },
    {
     "data": {
      "text/plain": [
       "array([[[147., 119., 116.],\n",
       "        [161., 133., 130.],\n",
       "        [173., 144., 140.],\n",
       "        ...,\n",
       "        [  0.,   0.,   0.],\n",
       "        [  0.,   0.,   0.],\n",
       "        [  0.,   0.,   0.]],\n",
       "\n",
       "       [[158., 130., 127.],\n",
       "        [169., 141., 138.],\n",
       "        [177., 148., 144.],\n",
       "        ...,\n",
       "        [  0.,   0.,   0.],\n",
       "        [  0.,   0.,   0.],\n",
       "        [  0.,   0.,   0.]],\n",
       "\n",
       "       [[172., 143., 139.],\n",
       "        [177., 148., 144.],\n",
       "        [182., 153., 149.],\n",
       "        ...,\n",
       "        [  0.,   0.,   0.],\n",
       "        [  0.,   0.,   0.],\n",
       "        [  0.,   0.,   0.]],\n",
       "\n",
       "       ...,\n",
       "\n",
       "       [[  0.,   1.,   3.],\n",
       "        [  0.,   0.,   2.],\n",
       "        [  0.,   0.,   2.],\n",
       "        ...,\n",
       "        [ 72.,  40.,  17.],\n",
       "        [ 72.,  40.,  17.],\n",
       "        [ 72.,  40.,  15.]],\n",
       "\n",
       "       [[  0.,   1.,   3.],\n",
       "        [  0.,   0.,   2.],\n",
       "        [  0.,   0.,   2.],\n",
       "        ...,\n",
       "        [ 72.,  42.,  18.],\n",
       "        [ 72.,  42.,  18.],\n",
       "        [ 73.,  43.,  19.]],\n",
       "\n",
       "       [[  0.,   1.,   3.],\n",
       "        [  0.,   1.,   3.],\n",
       "        [  1.,   1.,   3.],\n",
       "        ...,\n",
       "        [ 74.,  46.,  24.],\n",
       "        [ 74.,  44.,  20.],\n",
       "        [ 71.,  41.,  17.]]], dtype=float32)"
      ]
     },
     "execution_count": 3,
     "metadata": {},
     "output_type": "execute_result"
    }
   ],
   "source": [
    "img = load_img('profile.jpg')\n",
    "x = img_to_array(img)\n",
    "print(x.shape)\n",
    "x"
   ]
  },
  {
   "cell_type": "code",
   "execution_count": 4,
   "id": "120a1ba4",
   "metadata": {},
   "outputs": [
    {
     "name": "stdout",
     "output_type": "stream",
     "text": [
      "(1, 400, 400, 3)\n"
     ]
    },
    {
     "data": {
      "text/plain": [
       "array([[[[147., 119., 116.],\n",
       "         [161., 133., 130.],\n",
       "         [173., 144., 140.],\n",
       "         ...,\n",
       "         [  0.,   0.,   0.],\n",
       "         [  0.,   0.,   0.],\n",
       "         [  0.,   0.,   0.]],\n",
       "\n",
       "        [[158., 130., 127.],\n",
       "         [169., 141., 138.],\n",
       "         [177., 148., 144.],\n",
       "         ...,\n",
       "         [  0.,   0.,   0.],\n",
       "         [  0.,   0.,   0.],\n",
       "         [  0.,   0.,   0.]],\n",
       "\n",
       "        [[172., 143., 139.],\n",
       "         [177., 148., 144.],\n",
       "         [182., 153., 149.],\n",
       "         ...,\n",
       "         [  0.,   0.,   0.],\n",
       "         [  0.,   0.,   0.],\n",
       "         [  0.,   0.,   0.]],\n",
       "\n",
       "        ...,\n",
       "\n",
       "        [[  0.,   1.,   3.],\n",
       "         [  0.,   0.,   2.],\n",
       "         [  0.,   0.,   2.],\n",
       "         ...,\n",
       "         [ 72.,  40.,  17.],\n",
       "         [ 72.,  40.,  17.],\n",
       "         [ 72.,  40.,  15.]],\n",
       "\n",
       "        [[  0.,   1.,   3.],\n",
       "         [  0.,   0.,   2.],\n",
       "         [  0.,   0.,   2.],\n",
       "         ...,\n",
       "         [ 72.,  42.,  18.],\n",
       "         [ 72.,  42.,  18.],\n",
       "         [ 73.,  43.,  19.]],\n",
       "\n",
       "        [[  0.,   1.,   3.],\n",
       "         [  0.,   1.,   3.],\n",
       "         [  1.,   1.,   3.],\n",
       "         ...,\n",
       "         [ 74.,  46.,  24.],\n",
       "         [ 74.,  44.,  20.],\n",
       "         [ 71.,  41.,  17.]]]], dtype=float32)"
      ]
     },
     "execution_count": 4,
     "metadata": {},
     "output_type": "execute_result"
    }
   ],
   "source": [
    "x = x.reshape((1,)+x.shape)\n",
    "print(x.shape)\n",
    "x"
   ]
  },
  {
   "cell_type": "markdown",
   "id": "281dd3aa",
   "metadata": {},
   "source": [
    "### Creating a directory to store images"
   ]
  },
  {
   "cell_type": "code",
   "execution_count": 5,
   "id": "8c12b9a0",
   "metadata": {},
   "outputs": [],
   "source": [
    "import os\n",
    "os.makedirs('Generated Images',exist_ok=True)"
   ]
  },
  {
   "cell_type": "markdown",
   "id": "e0dee7e2",
   "metadata": {},
   "source": [
    "### Generating 20 images "
   ]
  },
  {
   "cell_type": "code",
   "execution_count": 6,
   "id": "61a14b4a",
   "metadata": {},
   "outputs": [],
   "source": [
    "images= 0\n",
    "for batch in data_generator.flow(x,batch_size=100,save_prefix='profile',save_format='jpeg',save_to_dir='Generated Images'):\n",
    "    images+=1\n",
    "    if images==20:\n",
    "        break"
   ]
  },
  {
   "cell_type": "code",
   "execution_count": null,
   "id": "77718f6f",
   "metadata": {},
   "outputs": [],
   "source": []
  }
 ],
 "metadata": {
  "kernelspec": {
   "display_name": "Python 3 (ipykernel)",
   "language": "python",
   "name": "python3"
  },
  "language_info": {
   "codemirror_mode": {
    "name": "ipython",
    "version": 3
   },
   "file_extension": ".py",
   "mimetype": "text/x-python",
   "name": "python",
   "nbconvert_exporter": "python",
   "pygments_lexer": "ipython3",
   "version": "3.10.5"
  }
 },
 "nbformat": 4,
 "nbformat_minor": 5
}
